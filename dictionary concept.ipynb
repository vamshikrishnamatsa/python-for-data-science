{
 "cells": [
  {
   "cell_type": "markdown",
   "id": "19856bba",
   "metadata": {},
   "source": [
    "# Dictionary"
   ]
  },
  {
   "cell_type": "code",
   "execution_count": 2,
   "id": "6efdc5bf",
   "metadata": {},
   "outputs": [
    {
     "name": "stdout",
     "output_type": "stream",
     "text": [
      "Ram 25\n",
      "Raheem 30\n",
      "Robert 35\n"
     ]
    }
   ],
   "source": [
    "list1=['Ram','Raheem','Robert']\n",
    "list2=[25,30,35]\n",
    "for i,j in zip(list1,list2):\n",
    "    print(i,j)"
   ]
  },
  {
   "cell_type": "code",
   "execution_count": 4,
   "id": "38075dad",
   "metadata": {},
   "outputs": [
    {
     "data": {
      "text/plain": [
       "{'Ram': 25, 'Raheem': 30, 'Robert': 35}"
      ]
     },
     "execution_count": 4,
     "metadata": {},
     "output_type": "execute_result"
    }
   ],
   "source": [
    "#{key:value}\n",
    "d1={'Ram':25,\n",
    "'Raheem':30,\n",
    "'Robert':35}\n",
    "d1"
   ]
  },
  {
   "cell_type": "code",
   "execution_count": 5,
   "id": "c543eaf6",
   "metadata": {},
   "outputs": [
    {
     "data": {
      "text/plain": [
       "{25: 'Ram', 30: 'Raheem', 35: 'Robert'}"
      ]
     },
     "execution_count": 5,
     "metadata": {},
     "output_type": "execute_result"
    }
   ],
   "source": [
    "d2={25:'Ram',30:'Raheem',35:'Robert'}\n",
    "d2\n",
    "#keys: 25,30,35\n",
    "#values: 'Ram','Raheem','Robert'"
   ]
  },
  {
   "cell_type": "raw",
   "id": "dfac513d",
   "metadata": {},
   "source": [
    "Dictionary is a key:value pair\n",
    "at values postition you can take any data type\n",
    "at keys postion list and dictionary will fail\n",
    "Duplicates are not allowed\n",
    "If you will update a key value, latest value it will take"
   ]
  },
  {
   "cell_type": "code",
   "execution_count": 8,
   "id": "ecf3addc",
   "metadata": {},
   "outputs": [
    {
     "name": "stdout",
     "output_type": "stream",
     "text": [
      "Robert\n",
      "Raheem\n"
     ]
    }
   ],
   "source": [
    "d1={'Ram':25,\n",
    "'Raheem':30,\n",
    "'Robert':35}\n",
    "print(max(d1))\n",
    "print(min(d1))\n",
    "\n",
    "#Maximum and minimum value based on key only"
   ]
  },
  {
   "cell_type": "code",
   "execution_count": 10,
   "id": "5831ae36",
   "metadata": {},
   "outputs": [
    {
     "data": {
      "text/plain": [
       "True"
      ]
     },
     "execution_count": 10,
     "metadata": {},
     "output_type": "execute_result"
    }
   ],
   "source": [
    "d1={'Ram':25,\n",
    "'Raheem':30,\n",
    "'Robert':35}\n",
    "\n",
    "#'Ram':25 in d1  #fail\n",
    "'Ram' in d1      # works\n",
    "#25 in d1        # Fails"
   ]
  },
  {
   "cell_type": "code",
   "execution_count": 12,
   "id": "3b0fcf64",
   "metadata": {},
   "outputs": [
    {
     "name": "stdout",
     "output_type": "stream",
     "text": [
      "The age of Ram is 25\n",
      "The age of Raheem is 30\n",
      "The age of Robert is 35\n"
     ]
    }
   ],
   "source": [
    "d1={'Ram':25,\n",
    "'Raheem':30,\n",
    "'Robert':35}\n",
    "d1['Ram']\n",
    "#using loop\n",
    "for key in d1:\n",
    "    print(\"The age of {} is {}\".format(key,d1[key]))"
   ]
  },
  {
   "cell_type": "code",
   "execution_count": 13,
   "id": "80ea411f",
   "metadata": {},
   "outputs": [
    {
     "data": {
      "text/plain": [
       "{'First name': 'steve', 'last name': 'rogers', 'Nativeplace': 'New york'}"
      ]
     },
     "execution_count": 13,
     "metadata": {},
     "output_type": "execute_result"
    }
   ],
   "source": [
    "#creating a dict\n",
    "d1={}\n",
    "d1[\"First name\"]=\"steve\"\n",
    "d1[\"last name\"]=\"rogers\"\n",
    "d1[\"Nativeplace\"]=\"New york\"\n",
    "\n",
    "d1"
   ]
  },
  {
   "cell_type": "code",
   "execution_count": 18,
   "id": "3988ce88",
   "metadata": {},
   "outputs": [
    {
     "name": "stdout",
     "output_type": "stream",
     "text": [
      "{'Ram': 25, 'Raheem': 30, 'Robert': 35}\n",
      "{'Ram': 25, 'Raheem': 30, 'Robert': 35}\n"
     ]
    },
    {
     "data": {
      "text/plain": [
       "{'Ram': 25, 'Raheem': 30, 'Robert': 35}"
      ]
     },
     "execution_count": 18,
     "metadata": {},
     "output_type": "execute_result"
    }
   ],
   "source": [
    "# prograam to create a dictionary based on two lists\n",
    "# names=['Ram','Raheem','Robert']\n",
    "# age=[25,30,35]\n",
    "# d1={'Ram':25,'Raheem':30,'Robert':35}\n",
    "names=['Ram','Raheem','Robert']\n",
    "age=[25,30,35]\n",
    "\n",
    "#method-1\n",
    "d={}\n",
    "for i,j in zip(names,age):\n",
    "    d[i]=j;\n",
    "print(d)  \n",
    "\n",
    "#method-2\n",
    "dict1={}\n",
    "for i in range(len(names)):\n",
    "    dict1[names[i]]=age[i]\n",
    "print(dict1) \n",
    "\n",
    "#method-3\n",
    "dict1={name:age for name,age in zip(names,age)}\n",
    "dict1"
   ]
  },
  {
   "cell_type": "markdown",
   "id": "9670fd3e",
   "metadata": {},
   "source": [
    "# items − keys − values"
   ]
  },
  {
   "cell_type": "code",
   "execution_count": 22,
   "id": "68e93b5f",
   "metadata": {},
   "outputs": [
    {
     "data": {
      "text/plain": [
       "dict_values"
      ]
     },
     "execution_count": 22,
     "metadata": {},
     "output_type": "execute_result"
    }
   ],
   "source": [
    "d1={'Ram':25,\n",
    "'Raheem':30,\n",
    "'Robert':35}\n",
    "d1\n",
    "#items\n",
    "items=d1.items()\n",
    "items                #output--> dict_items([('Ram', 25), ('Raheem', 30), ('Robert', 35)])\n",
    "type(items)          #output-->dict_items\n",
    "\n",
    "#keys\n",
    "keys=d1.keys()\n",
    "keys                #output-->dict_keys(['Ram', 'Raheem', 'Robert'])\n",
    "type(keys)           #output-->dict_keys\n",
    "\n",
    "#values\n",
    "val=d1.values()\n",
    "val                 #output-->dict_values([25, 30, 35])\n",
    "type(val)           #output-->dict_values"
   ]
  },
  {
   "cell_type": "code",
   "execution_count": 24,
   "id": "0709770d",
   "metadata": {},
   "outputs": [
    {
     "data": {
      "text/plain": [
       "[25, 30, 35]"
      ]
     },
     "execution_count": 24,
     "metadata": {},
     "output_type": "execute_result"
    }
   ],
   "source": [
    "val # I want to convert into a list\n",
    "values_list=list(val) # then you can apply list methods\n",
    "values_list"
   ]
  },
  {
   "cell_type": "code",
   "execution_count": 25,
   "id": "9387e5ab",
   "metadata": {},
   "outputs": [
    {
     "data": {
      "text/plain": [
       "['Ram', 'Raheem', 'Robert']"
      ]
     },
     "execution_count": 25,
     "metadata": {},
     "output_type": "execute_result"
    }
   ],
   "source": [
    "keys_list=list(keys)\n",
    "keys_list"
   ]
  },
  {
   "cell_type": "code",
   "execution_count": 30,
   "id": "eba05e89",
   "metadata": {},
   "outputs": [
    {
     "data": {
      "text/plain": [
       "{'Ram': 25, 'Raheem': 30, 'Robert': 35}"
      ]
     },
     "execution_count": 30,
     "metadata": {},
     "output_type": "execute_result"
    }
   ],
   "source": [
    "d1={}\n",
    "for i in range(len(keys_list)):\n",
    "    d1[keys_list[i]]=values_list[i] # d1[keys[0]]=values[0] d1['Ram']=25\n",
    "d1"
   ]
  },
  {
   "cell_type": "code",
   "execution_count": 31,
   "id": "44b2dd60",
   "metadata": {},
   "outputs": [
    {
     "data": {
      "text/plain": [
       "{'Ram': 25, 'Raheem': 30, 'Robert': 35}"
      ]
     },
     "execution_count": 31,
     "metadata": {},
     "output_type": "execute_result"
    }
   ],
   "source": [
    "dict(zip(keys,val))"
   ]
  },
  {
   "cell_type": "code",
   "execution_count": 38,
   "id": "a4bdd065",
   "metadata": {},
   "outputs": [
    {
     "data": {
      "text/plain": [
       "{'first_name': ['virat', 'Rohit', 'kl'],\n",
       " 'second_name': ['kohli', 'sharma', 'rahul'],\n",
       " 'company': ['blr', 'mumbai', 'delhi']}"
      ]
     },
     "execution_count": 38,
     "metadata": {},
     "output_type": "execute_result"
    }
   ],
   "source": [
    "s1='virat.kohli@blr.com,Rohit.sharma@mumbai.com,kl.rahul@delhi.com'\n",
    "#output should look like\n",
    "# {'first_name':['virat','Rohit','KL'],\n",
    "# 'second_name':['kohli','sharma','rahul'],\n",
    "# 'company':['blr','mumbai','delhi']}\n",
    "\n",
    "l1=s1.split(',')\n",
    "f_name=[]\n",
    "l_name=[]\n",
    "team=[]\n",
    "ipl={}\n",
    "for i in l1:\n",
    "    f_name.append(i[0 : i.find('.')])\n",
    "    l_name.append(i[i.find('.')+1 : i.find('@') ])\n",
    "    team.append(i[i.find('@')+1 : i.find('.',i.find('.')+1)])\n",
    "ipl['first_name']=f_name\n",
    "ipl['second_name']=l_name\n",
    "ipl['company']=team\n",
    "ipl    \n",
    "\n",
    "\n"
   ]
  },
  {
   "cell_type": "code",
   "execution_count": 42,
   "id": "a8c61f60",
   "metadata": {},
   "outputs": [
    {
     "name": "stdout",
     "output_type": "stream",
     "text": [
      "{'can': 4, 'you': 2, 'canner': 2, 'able': 1, 'to': 1}\n"
     ]
    }
   ],
   "source": [
    "str1='can can you canner can you able to can canner'\n",
    "#{'can':4,'you':2,'canner':2,'able':1,'to':1}\n",
    "# d={}\n",
    "# step-1: split the str1 ======= > you will get a list\n",
    "# step-2: iterate through loop ==== > each word will print\n",
    "# step-3: list1.count(<word>): number\n",
    "# step-4: make the dictionary\n",
    "d1={}\n",
    "l1=str1.split(' ')\n",
    "for i in l1:\n",
    "    d1[i]=l1.count(i)\n",
    "print(d1)    "
   ]
  },
  {
   "cell_type": "markdown",
   "id": "49297795",
   "metadata": {},
   "source": [
    "# pop-popitem-del"
   ]
  },
  {
   "cell_type": "raw",
   "id": "8215b505",
   "metadata": {},
   "source": [
    "what is pop\n",
    "    pop will remove specify key\n",
    "    return value\n",
    "what is popitem\n",
    "    - remove the last value default\n",
    "    - return the pair\n",
    "what is del\n",
    "    - del is a keyword\n",
    "    - it can delete an item by providing specific key"
   ]
  },
  {
   "cell_type": "code",
   "execution_count": 47,
   "id": "c82b9900",
   "metadata": {},
   "outputs": [
    {
     "data": {
      "text/plain": [
       "{'b': 30}"
      ]
     },
     "execution_count": 47,
     "metadata": {},
     "output_type": "execute_result"
    }
   ],
   "source": [
    "d2 = {'a':20,'b':30,'c':40,'d':500}\n",
    "d2.pop('a')         #output:20\n",
    "d2.popitem()        #output:('d', 500)\n",
    "del d2['c']\n",
    "d2\n"
   ]
  },
  {
   "cell_type": "markdown",
   "id": "f639dc1e",
   "metadata": {},
   "source": [
    "# update"
   ]
  },
  {
   "cell_type": "code",
   "execution_count": 49,
   "id": "fd3f7530",
   "metadata": {},
   "outputs": [
    {
     "name": "stdout",
     "output_type": "stream",
     "text": [
      "{'a': 1, 'b': 7, 'c': 5, 'd': 9}\n"
     ]
    }
   ],
   "source": [
    "# it inserts the particular items to the dictionary\n",
    "d1 = {'a': 1, 'b': 4, 'c': 5}\n",
    "d2 = {'b': 7, 'd': 9}\n",
    "d1.update(d2)\n",
    "print(d1)\n"
   ]
  },
  {
   "cell_type": "code",
   "execution_count": 51,
   "id": "4e9a5e22",
   "metadata": {},
   "outputs": [
    {
     "name": "stdout",
     "output_type": "stream",
     "text": [
      "{'b': 4, 'd': 9, 'a': 1, 'c': 5}\n"
     ]
    }
   ],
   "source": [
    "d1 = {'a': 1, 'b': 4, 'c': 5}\n",
    "d2 = {'b': 7, 'd': 9}\n",
    "d2.update(d1)\n",
    "print(d2)\n",
    "#Update method will update a dictionary with elements from another dictionary.\n",
    "#It modifies the dictionary."
   ]
  },
  {
   "cell_type": "code",
   "execution_count": null,
   "id": "5a3436e7",
   "metadata": {},
   "outputs": [],
   "source": []
  }
 ],
 "metadata": {
  "kernelspec": {
   "display_name": "Python 3 (ipykernel)",
   "language": "python",
   "name": "python3"
  },
  "language_info": {
   "codemirror_mode": {
    "name": "ipython",
    "version": 3
   },
   "file_extension": ".py",
   "mimetype": "text/x-python",
   "name": "python",
   "nbconvert_exporter": "python",
   "pygments_lexer": "ipython3",
   "version": "3.10.9"
  }
 },
 "nbformat": 4,
 "nbformat_minor": 5
}
