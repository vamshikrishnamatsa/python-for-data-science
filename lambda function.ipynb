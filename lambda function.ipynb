{
 "cells": [
  {
   "cell_type": "markdown",
   "id": "c388fa77",
   "metadata": {},
   "source": [
    "# lambda fucntion"
   ]
  },
  {
   "cell_type": "code",
   "execution_count": 3,
   "id": "de8d8e6d",
   "metadata": {},
   "outputs": [
    {
     "data": {
      "text/plain": [
       "20"
      ]
     },
     "execution_count": 3,
     "metadata": {},
     "output_type": "execute_result"
    }
   ],
   "source": [
    "# Create basic function\n",
    "#one arguement\n",
    "def add10(x):\n",
    "    return x+10\n",
    "add10(20)    #output will be 30\n",
    "\n",
    "# how many arguemts are present? : x\n",
    "# what you are returning?: x+10\n",
    "# format: lambda <argument_name>:<output>\n",
    "a=lambda x:x+10\n",
    "a(10)         #output is 20\n"
   ]
  },
  {
   "cell_type": "code",
   "execution_count": 5,
   "id": "2c903fc8",
   "metadata": {},
   "outputs": [
    {
     "data": {
      "text/plain": [
       "200"
      ]
     },
     "execution_count": 5,
     "metadata": {},
     "output_type": "execute_result"
    }
   ],
   "source": [
    "#two arguments\n",
    "def mul(a,b):\n",
    "    return a*b\n",
    "mul(10,20)\n",
    "# format: lambda <arg1>,<arg2>:<output>\n",
    "a=lambda x,y:x*y\n",
    "a(10,20)"
   ]
  },
  {
   "cell_type": "code",
   "execution_count": 9,
   "id": "64be75b6",
   "metadata": {},
   "outputs": [
    {
     "name": "stdout",
     "output_type": "stream",
     "text": [
      "20\n"
     ]
    },
    {
     "data": {
      "text/plain": [
       "8"
      ]
     },
     "execution_count": 9,
     "metadata": {},
     "output_type": "execute_result"
    }
   ],
   "source": [
    "#if-else\n",
    "def greater(x1,x2):\n",
    "    if(x1>x2):\n",
    "        print(x1)\n",
    "    else:\n",
    "        print(x2)\n",
    "greater(10,20)        \n",
    "\n",
    "# format :\n",
    "# lambda <arg1>,<arg2>: <if_output> <if_con> else <else_op>\n",
    "greater=lambda a,b: (a if a>b else b)\n",
    "greater(8,3)"
   ]
  },
  {
   "cell_type": "raw",
   "id": "b05d03dc",
   "metadata": {},
   "source": [
    "lambda function is nothing but create a function\n",
    "one argument\n",
    "multiple arguments\n",
    "if else conditions\n",
    "if else conditions same like list compehenshion"
   ]
  },
  {
   "cell_type": "code",
   "execution_count": 10,
   "id": "f58b406e",
   "metadata": {},
   "outputs": [
    {
     "name": "stdout",
     "output_type": "stream",
     "text": [
      "['Hyd', 'Mumbai', 'Chennai']\n"
     ]
    }
   ],
   "source": [
    "list1=['hyd','mumbai','chennai']\n",
    "#output: ['Hyd','Mumbai','Chennai']\n",
    "# M-1: use append method\n",
    "list2=[]\n",
    "for i in list1:\n",
    "    list2.append(i.capitalize())\n",
    "print(list2)\n",
    "\n",
    "# M-2: use list comprhenshion\n",
    "[i.capitalize() for i in list1]\n",
    "\n",
    "# M-3: make a lambda function\n",
    "#lambda <arguments>: <output>,<iterator>\n",
    "a=lambda i:i.capitalize(),list1\n"
   ]
  },
  {
   "cell_type": "code",
   "execution_count": null,
   "id": "8bacd0fd",
   "metadata": {},
   "outputs": [],
   "source": []
  }
 ],
 "metadata": {
  "kernelspec": {
   "display_name": "Python 3 (ipykernel)",
   "language": "python",
   "name": "python3"
  },
  "language_info": {
   "codemirror_mode": {
    "name": "ipython",
    "version": 3
   },
   "file_extension": ".py",
   "mimetype": "text/x-python",
   "name": "python",
   "nbconvert_exporter": "python",
   "pygments_lexer": "ipython3",
   "version": "3.10.9"
  }
 },
 "nbformat": 4,
 "nbformat_minor": 5
}
