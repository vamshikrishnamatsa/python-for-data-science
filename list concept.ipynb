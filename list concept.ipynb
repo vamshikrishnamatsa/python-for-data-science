{
 "cells": [
  {
   "cell_type": "markdown",
   "id": "fea2a91e",
   "metadata": {},
   "source": [
    "# LIST CONCEPT"
   ]
  },
  {
   "cell_type": "code",
   "execution_count": 32,
   "id": "fe8a7318",
   "metadata": {},
   "outputs": [],
   "source": [
    "'''list is an array of elements\n",
    "list elements heterogeneous(different) data types are allowed\n",
    "duplicates are allowed\n",
    "list in list also works'''\n",
    "list1=[1,2,3,4]\n",
    "list2=['a','b','c','d']"
   ]
  },
  {
   "cell_type": "markdown",
   "id": "2147e78b",
   "metadata": {},
   "source": [
    "# append\n"
   ]
  },
  {
   "cell_type": "code",
   "execution_count": 2,
   "id": "01f76fb4",
   "metadata": {},
   "outputs": [
    {
     "name": "stdout",
     "output_type": "stream",
     "text": [
      "[100, 200]\n",
      "[100, 200, 300]\n",
      "[100, 200, 300, [400, 500]]\n"
     ]
    }
   ],
   "source": [
    "#append-->add the elements at last index\n",
    "list1=[100,200]\n",
    "print(list1)\n",
    "list1.append(300)\n",
    "print(list1)\n",
    "list1.append([400,500])\n",
    "print(list1)"
   ]
  },
  {
   "cell_type": "markdown",
   "id": "d4940865",
   "metadata": {},
   "source": [
    "# List comprehension"
   ]
  },
  {
   "cell_type": "code",
   "execution_count": 6,
   "id": "354ece32",
   "metadata": {},
   "outputs": [
    {
     "name": "stdout",
     "output_type": "stream",
     "text": [
      "[1, 4, 9, 16, 25]\n",
      "[1, 4, 9, 16, 25]\n"
     ]
    }
   ],
   "source": [
    "list1=[1,2,3,4,5]\n",
    "output=[]\n",
    "for i in list1:\n",
    "    output.append(i*i)\n",
    "print(output)    \n",
    "\n",
    "\n",
    "# List comprehension means (code in a single line ===== > speed the process)\n",
    "# step-1: intilaized the list output=[]\n",
    "# step-2: iterate the loop\n",
    "# step-3: you save the output\n",
    "\n",
    "output=[i*i for i in list1]\n",
    "print(output)\n",
    "# [<output> <forloop>]"
   ]
  },
  {
   "cell_type": "code",
   "execution_count": 9,
   "id": "4bf03b8a",
   "metadata": {},
   "outputs": [
    {
     "name": "stdout",
     "output_type": "stream",
     "text": [
      "['Hyd', 'Bengaluru', 'Delhi']\n",
      "['Hyd', 'Bengaluru', 'Delhi']\n"
     ]
    }
   ],
   "source": [
    "list2=['hyd','bengaluru','delhi']\n",
    "# output=['Hyd','Bengaluru','Delhi']\n",
    "output=[]\n",
    "for i in list2:\n",
    "    output.append(i.capitalize())\n",
    "print(output)    \n",
    "    \n",
    "#using List comprehension\n",
    "output1=[i.capitalize() for i in list2]\n",
    "print(output1)\n",
    "    "
   ]
  },
  {
   "cell_type": "code",
   "execution_count": 11,
   "id": "a130d788",
   "metadata": {},
   "outputs": [
    {
     "name": "stdout",
     "output_type": "stream",
     "text": [
      "[1, 2, 3, 4, 5, 6, 7, 8, 9, 10, 11, 12, 13, 14, 15, 16, 17, 18, 19, 20]\n"
     ]
    }
   ],
   "source": [
    "# create the list of 20 numbers from 1 to 20\n",
    "list1=[i for i in range(1,21)]\n",
    "print(list1)"
   ]
  },
  {
   "cell_type": "code",
   "execution_count": 15,
   "id": "e3361e4e",
   "metadata": {},
   "outputs": [
    {
     "name": "stdout",
     "output_type": "stream",
     "text": [
      "['h#d', 'beng#luru']\n"
     ]
    },
    {
     "data": {
      "text/plain": [
       "['h#d', 'beng#luru']"
      ]
     },
     "execution_count": 15,
     "metadata": {},
     "output_type": "execute_result"
    }
   ],
   "source": [
    "# list comprehenshion with if condition\n",
    "\n",
    "list3=['h#d','beng#luru','delhi']\n",
    "# output=['h#d','beng#luru']\n",
    "output=[]\n",
    "for i in list3:\n",
    "    if '#' in i:\n",
    "        output.append(i)\n",
    "print(output)\n",
    "\n",
    "#[<o/p> <forloop> <if_condition>]\n",
    "\n",
    "output1=[i for i in list3 if '#' in i]\n",
    "output1\n"
   ]
  },
  {
   "cell_type": "code",
   "execution_count": 17,
   "id": "fc6a26d4",
   "metadata": {},
   "outputs": [
    {
     "data": {
      "text/plain": [
       "['ac', 'a']"
      ]
     },
     "execution_count": 17,
     "metadata": {},
     "output_type": "execute_result"
    }
   ],
   "source": [
    "# elemnts less than 3\n",
    "list4=[\"abcd\",\"abc\",\"ac\",\"a\"]\n",
    "output=[i for i in list4 if len(i)<3]\n",
    "output"
   ]
  },
  {
   "cell_type": "code",
   "execution_count": 20,
   "id": "cb5468b9",
   "metadata": {},
   "outputs": [
    {
     "name": "stdout",
     "output_type": "stream",
     "text": [
      "['odd:1', 'even:2', 'odd:3', 'even:4', 'odd:5', 'even:6']\n"
     ]
    },
    {
     "data": {
      "text/plain": [
       "['odd:1', 'even:2', 'odd:3', 'even:4', 'odd:5', 'even:6']"
      ]
     },
     "execution_count": 20,
     "metadata": {},
     "output_type": "execute_result"
    }
   ],
   "source": [
    "# list comprehenshion with if-else condition\n",
    "\n",
    "list1=[1,2,3,4,5,6]\n",
    "output=[]\n",
    "for i in list1:\n",
    "    if i%2==0:\n",
    "        output.append(\"even:{}\".format(i))\n",
    "    else:\n",
    "        output.append(\"odd:{}\".format(i))\n",
    "print(output)\n",
    "\n",
    "#[<if_output> <if_condition> else <else_output> <for loop>]\n",
    "output1=[\"even:{}\".format(i) if i%2==0 else \"odd:{}\".format(i) for i in list1]\n",
    "output1"
   ]
  },
  {
   "cell_type": "code",
   "execution_count": 21,
   "id": "c6fc8ee5",
   "metadata": {},
   "outputs": [
    {
     "data": {
      "text/plain": [
       "['A', 'B', 'C', 1, 2, 3]"
      ]
     },
     "execution_count": 21,
     "metadata": {},
     "output_type": "execute_result"
    }
   ],
   "source": [
    "#Extend\n",
    "list1=['A','B','C']\n",
    "list2=[1,2,3]\n",
    "list1.extend(list2)\n",
    "list1"
   ]
  },
  {
   "cell_type": "code",
   "execution_count": 22,
   "id": "8b37322b",
   "metadata": {},
   "outputs": [
    {
     "data": {
      "text/plain": [
       "['A', 'B', 'C', [1, 2, 3]]"
      ]
     },
     "execution_count": 22,
     "metadata": {},
     "output_type": "execute_result"
    }
   ],
   "source": [
    "#using append\n",
    "list1=['A','B','C']\n",
    "list2=[1,2,3]\n",
    "list1.append(list2) # ['A','B','C',[1,2,3]]\n",
    "list1"
   ]
  },
  {
   "cell_type": "code",
   "execution_count": 24,
   "id": "ab49f8f5",
   "metadata": {},
   "outputs": [
    {
     "data": {
      "text/plain": [
       "[1, 2, 3, 4, 5]"
      ]
     },
     "execution_count": 24,
     "metadata": {},
     "output_type": "execute_result"
    }
   ],
   "source": [
    "#using concat\n",
    "list1 = [1, 2, 3]\n",
    "list2 = [4, 5]\n",
    "result = list1 + list2\n",
    "result"
   ]
  },
  {
   "cell_type": "markdown",
   "id": "8bfee433",
   "metadata": {},
   "source": [
    "# append vs extend vs concat"
   ]
  },
  {
   "cell_type": "raw",
   "id": "0d76676d",
   "metadata": {},
   "source": [
    " \n",
    "append will add the element at last , that element can be any type\n",
    "        - list1=[1,2,3]\n",
    "        - list2 =['A','B']\n",
    "        - list1.append(list2)=[1,2,3,['A','B']]\n",
    "Extend will update the list by adding new elements, the result also save in a same list\n",
    "        - list1=[1,2,3]\n",
    "        - list2 =['A','B']\n",
    "        - list1.extend(list2)=[1,2,3,'A','B']\n",
    "Concat will add two list, but the result will not update in a same list\n",
    "        - list1=[1,2,3]\n",
    "        - list2 =['A','B']\n",
    "        - list1+list2=[1,2,3,'A','B']\n"
   ]
  },
  {
   "cell_type": "markdown",
   "id": "165e0e55",
   "metadata": {},
   "source": [
    "# pop-remove-del"
   ]
  },
  {
   "cell_type": "code",
   "execution_count": 26,
   "id": "247bff50",
   "metadata": {},
   "outputs": [
    {
     "data": {
      "text/plain": [
       "'python'"
      ]
     },
     "execution_count": 26,
     "metadata": {},
     "output_type": "execute_result"
    }
   ],
   "source": [
    "list1=[1,2,3]\n",
    "list1.extend('python')\n",
    "list1.append('python')\n",
    "#output-->[1, 2, 3, 'p', 'y', 't', 'h', 'o', 'n', 'python']\n",
    "list1.pop()"
   ]
  },
  {
   "cell_type": "code",
   "execution_count": 27,
   "id": "5eac188b",
   "metadata": {},
   "outputs": [
    {
     "data": {
      "text/plain": [
       "'t'"
      ]
     },
     "execution_count": 27,
     "metadata": {},
     "output_type": "execute_result"
    }
   ],
   "source": [
    "list1\n",
    "list1.pop(5)    # list1.pop(list1.index('t'))\n",
    "# in side bracket default aragument is there index=-1\n",
    "# -1 means last value\n",
    "# if you not provide any value\n",
    "# it will remove last value\n",
    "# if i provide any index, it will reove that element\n",
    "# it is also returning , which element it is removing"
   ]
  },
  {
   "cell_type": "code",
   "execution_count": 31,
   "id": "2ad18802",
   "metadata": {},
   "outputs": [
    {
     "data": {
      "text/plain": [
       "[200, 100, 300]"
      ]
     },
     "execution_count": 31,
     "metadata": {},
     "output_type": "execute_result"
    }
   ],
   "source": [
    "#remove\n",
    "list1=[100,200,100,300] # duplicates are allowed\n",
    "list1.remove(100)     # first occurence will gone\n",
    "list1 # it will not return any value\n",
    "\n",
    "#del\n",
    "#del(list1)--> when you try to print list1 it gives error that list1 is not defined"
   ]
  },
  {
   "cell_type": "code",
   "execution_count": 34,
   "id": "75c33bfe",
   "metadata": {},
   "outputs": [
    {
     "data": {
      "text/plain": [
       "['__add__',\n",
       " '__class__',\n",
       " '__class_getitem__',\n",
       " '__contains__',\n",
       " '__delattr__',\n",
       " '__delitem__',\n",
       " '__dir__',\n",
       " '__doc__',\n",
       " '__eq__',\n",
       " '__format__',\n",
       " '__ge__',\n",
       " '__getattribute__',\n",
       " '__getitem__',\n",
       " '__gt__',\n",
       " '__hash__',\n",
       " '__iadd__',\n",
       " '__imul__',\n",
       " '__init__',\n",
       " '__init_subclass__',\n",
       " '__iter__',\n",
       " '__le__',\n",
       " '__len__',\n",
       " '__lt__',\n",
       " '__mul__',\n",
       " '__ne__',\n",
       " '__new__',\n",
       " '__reduce__',\n",
       " '__reduce_ex__',\n",
       " '__repr__',\n",
       " '__reversed__',\n",
       " '__rmul__',\n",
       " '__setattr__',\n",
       " '__setitem__',\n",
       " '__sizeof__',\n",
       " '__str__',\n",
       " '__subclasshook__',\n",
       " 'append',\n",
       " 'clear',\n",
       " 'copy',\n",
       " 'count',\n",
       " 'extend',\n",
       " 'index',\n",
       " 'insert',\n",
       " 'pop',\n",
       " 'remove',\n",
       " 'reverse',\n",
       " 'sort']"
      ]
     },
     "execution_count": 34,
     "metadata": {},
     "output_type": "execute_result"
    }
   ],
   "source": [
    "dir(list1)\n",
    "#it will give all the attributes and methods available in list"
   ]
  },
  {
   "cell_type": "markdown",
   "id": "0f5d5963",
   "metadata": {},
   "source": [
    "# zip"
   ]
  },
  {
   "cell_type": "code",
   "execution_count": 35,
   "id": "c59a5da0",
   "metadata": {},
   "outputs": [
    {
     "name": "stdout",
     "output_type": "stream",
     "text": [
      "Ram age is 25\n",
      "Robert age is 30\n",
      "Raheem age is 35\n"
     ]
    }
   ],
   "source": [
    "#zip-->useful to combine multiple iterables (like lists) element-wise\n",
    "list1=['Ram','Robert','Raheem']\n",
    "list2=[25,30,35]\n",
    "# 'Ram age is 25'\n",
    "# 'Robert age is 30'\n",
    "# 'Raheem age is 35'\n",
    "for i,j in zip(list1,list2):\n",
    "    print(\"{} age is {}\".format(i,j))"
   ]
  },
  {
   "cell_type": "code",
   "execution_count": 36,
   "id": "3f065f7f",
   "metadata": {},
   "outputs": [
    {
     "data": {
      "text/plain": [
       "[125, 230, 335]"
      ]
     },
     "execution_count": 36,
     "metadata": {},
     "output_type": "execute_result"
    }
   ],
   "source": [
    "list1=[100,200,300]\n",
    "list2=[25,30,35]\n",
    "# output=[125,230,335]\n",
    "output=[i+j for i,j in zip(list1,list2)]\n",
    "output"
   ]
  },
  {
   "cell_type": "code",
   "execution_count": null,
   "id": "856acc7c",
   "metadata": {},
   "outputs": [],
   "source": []
  }
 ],
 "metadata": {
  "kernelspec": {
   "display_name": "Python 3 (ipykernel)",
   "language": "python",
   "name": "python3"
  },
  "language_info": {
   "codemirror_mode": {
    "name": "ipython",
    "version": 3
   },
   "file_extension": ".py",
   "mimetype": "text/x-python",
   "name": "python",
   "nbconvert_exporter": "python",
   "pygments_lexer": "ipython3",
   "version": "3.10.9"
  }
 },
 "nbformat": 4,
 "nbformat_minor": 5
}
